{
 "cells": [
  {
   "cell_type": "markdown",
   "source": [
    "### Import Dependencies"
   ],
   "metadata": {}
  },
  {
   "cell_type": "code",
   "execution_count": 1,
   "source": [
    "from splinter import Browser\r\n",
    "from bs4 import BeautifulSoup as bs\r\n",
    "from webdriver_manager.chrome import ChromeDriverManager\r\n",
    "import pandas as pd\r\n",
    "import time"
   ],
   "outputs": [],
   "metadata": {}
  },
  {
   "cell_type": "markdown",
   "source": [
    "## NASA Mars News"
   ],
   "metadata": {}
  },
  {
   "cell_type": "code",
   "execution_count": null,
   "source": [
    "executable_path = {'executable_path': ChromeDriverManager().install()}\r\n",
    "browser = Browser('chrome', **executable_path, headless=False)\r\n",
    "\r\n",
    "news_url = \"https://redplanetscience.com/\"\r\n",
    "browser.visit(news_url)\r\n",
    "\r\n",
    "time.sleep(1)\r\n",
    "\r\n",
    "html = browser.html\r\n",
    "soup = bs(html, \"html.parser\")\r\n",
    "\r\n",
    "news = soup.find('div', class_='list_text')\r\n",
    "\r\n",
    "news_title = news.find(class_='content_title').text\r\n",
    "news_content = news.find(class_='article_teaser_body').text\r\n",
    "\r\n",
    "news_data = {\r\n",
    "    'title': news_title,\r\n",
    "    'content': news_content\r\n",
    "}\r\n",
    "\r\n",
    "browser.quit()"
   ],
   "outputs": [],
   "metadata": {}
  },
  {
   "cell_type": "markdown",
   "source": [
    "## JPL Mars Space Images - Featured Image"
   ],
   "metadata": {}
  },
  {
   "cell_type": "code",
   "execution_count": null,
   "source": [
    "executable_path = {'executable_path': ChromeDriverManager().install()}\r\n",
    "browser = Browser('chrome', **executable_path, headless=False)\r\n",
    "\r\n",
    "image_url = \"https://spaceimages-mars.com/\"\r\n",
    "browser.visit(image_url)\r\n",
    "\r\n",
    "time.sleep(1)\r\n",
    "\r\n",
    "html = browser.html\r\n",
    "soup = bs(html, \"html.parser\")\r\n",
    "\r\n",
    "featured = soup.find('img', class_='headerimage fade-in')['src']\r\n",
    "\r\n",
    "browser.quit()\r\n",
    "\r\n",
    "featured_image_url = image_url + featured"
   ],
   "outputs": [],
   "metadata": {}
  },
  {
   "cell_type": "markdown",
   "source": [
    "## Mars Facts"
   ],
   "metadata": {}
  },
  {
   "cell_type": "code",
   "execution_count": null,
   "source": [
    "facts_url = \"https://galaxyfacts-mars.com/\"\r\n",
    "\r\n",
    "table = pd.read_html(facts_url)\r\n",
    "\r\n",
    "df = table[0]\r\n",
    "header = df.iloc[0]\r\n",
    "facts_df = df[1:]\r\n",
    "facts_df.columns = header\r\n",
    "\r\n",
    "facts = facts_df.to_html()"
   ],
   "outputs": [],
   "metadata": {}
  },
  {
   "cell_type": "markdown",
   "source": [
    "## Mars Hemispheres"
   ],
   "metadata": {}
  },
  {
   "cell_type": "code",
   "execution_count": 3,
   "source": [
    "executable_path = {'executable_path': ChromeDriverManager().install()}\r\n",
    "browser = Browser('chrome', **executable_path, headless=False)\r\n",
    "\r\n",
    "hemi_url = \"https://marshemispheres.com/\"\r\n",
    "browser.visit(hemi_url)\r\n",
    "\r\n",
    "time.sleep(1)\r\n",
    "\r\n",
    "hemi_image_urls = []\r\n",
    "\r\n",
    "for x in range(0, 4):\r\n",
    "\r\n",
    "    html = browser.html\r\n",
    "    soup = bs(html, \"html.parser\")\r\n",
    "\r\n",
    "    hemi_links = browser.links.find_by_partial_text('Hemisphere Enhanced')\r\n",
    "\r\n",
    "    hemi_links[x].click()\r\n",
    "\r\n",
    "    html = browser.html\r\n",
    "    soup = bs(html, \"html.parser\")\r\n",
    "\r\n",
    "    time.sleep(1)\r\n",
    "\r\n",
    "    hemi_image = soup.find('img', class_='wide-image')['src']\r\n",
    "    hemi_title = soup.find('h2', class_='title').text.strip('Enhanced').rstrip()\r\n",
    "\r\n",
    "    img_url = hemi_url + hemi_image\r\n",
    "\r\n",
    "    hemisphere = {\r\n",
    "            'title': hemi_title,\r\n",
    "            'img_url': img_url\r\n",
    "        }\r\n",
    "        \r\n",
    "    hemi_image_urls.append(hemisphere)\r\n",
    "\r\n",
    "    browser.links.find_by_partial_text('Back').click()\r\n",
    "\r\n",
    "    time.sleep(1)\r\n",
    "\r\n",
    "    \r\n",
    "\r\n",
    "browser.quit()\r\n",
    "\r\n",
    "hemi_image_urls"
   ],
   "outputs": [
    {
     "output_type": "stream",
     "name": "stderr",
     "text": [
      "\n",
      "\n",
      "====== WebDriver manager ======\n",
      "Current google-chrome version is 92.0.4515\n",
      "Get LATEST driver version for 92.0.4515\n",
      "Driver [C:\\Users\\12164\\.wdm\\drivers\\chromedriver\\win32\\92.0.4515.43\\chromedriver.exe] found in cache\n"
     ]
    },
    {
     "output_type": "execute_result",
     "data": {
      "text/plain": [
       "[{'title': 'Cerberus Hemisphere',\n",
       "  'img_url': 'https://marshemispheres.com/images/f5e372a36edfa389625da6d0cc25d905_cerberus_enhanced.tif_full.jpg'},\n",
       " {'title': 'Schiaparelli Hemisphere',\n",
       "  'img_url': 'https://marshemispheres.com/images/3778f7b43bbbc89d6e3cfabb3613ba93_schiaparelli_enhanced.tif_full.jpg'},\n",
       " {'title': 'Syrtis Major Hemisphere',\n",
       "  'img_url': 'https://marshemispheres.com/images/555e6403a6ddd7ba16ddb0e471cadcf7_syrtis_major_enhanced.tif_full.jpg'},\n",
       " {'title': 'Valles Marineris Hemisphere',\n",
       "  'img_url': 'https://marshemispheres.com/images/b3c7c6c9138f57b4756be9b9c43e3a48_valles_marineris_enhanced.tif_full.jpg'}]"
      ]
     },
     "metadata": {},
     "execution_count": 3
    }
   ],
   "metadata": {}
  }
 ],
 "metadata": {
  "orig_nbformat": 4,
  "language_info": {
   "name": "python",
   "version": "3.6.10",
   "mimetype": "text/x-python",
   "codemirror_mode": {
    "name": "ipython",
    "version": 3
   },
   "pygments_lexer": "ipython3",
   "nbconvert_exporter": "python",
   "file_extension": ".py"
  },
  "kernelspec": {
   "name": "python3",
   "display_name": "Python 3.6.10 64-bit ('PythonData': conda)"
  },
  "interpreter": {
   "hash": "ed99c328fe6228cde88a5ea9dac3573c8a80070b6f57470153ed5be436ecc5ea"
  }
 },
 "nbformat": 4,
 "nbformat_minor": 2
}