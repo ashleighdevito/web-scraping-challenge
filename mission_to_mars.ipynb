{
 "cells": [
  {
   "cell_type": "markdown",
   "source": [
    "### Import Dependencies"
   ],
   "metadata": {}
  },
  {
   "cell_type": "code",
   "execution_count": 1,
   "source": [
    "from splinter import Browser\r\n",
    "from bs4 import BeautifulSoup as bs\r\n",
    "from webdriver_manager.chrome import ChromeDriverManager\r\n",
    "import pandas as pd\r\n",
    "import time"
   ],
   "outputs": [],
   "metadata": {}
  },
  {
   "cell_type": "markdown",
   "source": [
    "## NASA Mars News"
   ],
   "metadata": {}
  },
  {
   "cell_type": "code",
   "execution_count": null,
   "source": [
    "executable_path = {'executable_path': ChromeDriverManager().install()}\r\n",
    "browser = Browser('chrome', **executable_path, headless=False)\r\n",
    "\r\n",
    "news_url = \"https://redplanetscience.com/\"\r\n",
    "browser.visit(news_url)\r\n",
    "\r\n",
    "time.sleep(1)\r\n",
    "\r\n",
    "html = browser.html\r\n",
    "soup = bs(html, \"html.parser\")\r\n",
    "\r\n",
    "news = soup.find('div', class_='list_text')\r\n",
    "\r\n",
    "news_title = news.find(class_='content_title').text\r\n",
    "news_content = news.find(class_='article_teaser_body').text\r\n",
    "\r\n",
    "news_data = {\r\n",
    "    'title': news_title,\r\n",
    "    'content': news_content\r\n",
    "}\r\n",
    "\r\n",
    "browser.quit()"
   ],
   "outputs": [],
   "metadata": {}
  },
  {
   "cell_type": "markdown",
   "source": [
    "## JPL Mars Space Images - Featured Image"
   ],
   "metadata": {}
  },
  {
   "cell_type": "code",
   "execution_count": null,
   "source": [
    "executable_path = {'executable_path': ChromeDriverManager().install()}\r\n",
    "browser = Browser('chrome', **executable_path, headless=False)\r\n",
    "\r\n",
    "image_url = \"https://spaceimages-mars.com/\"\r\n",
    "browser.visit(image_url)\r\n",
    "\r\n",
    "time.sleep(1)\r\n",
    "\r\n",
    "html = browser.html\r\n",
    "soup = bs(html, \"html.parser\")\r\n",
    "\r\n",
    "featured = soup.find('img', class_='headerimage fade-in')['src']\r\n",
    "\r\n",
    "featured_image_url = image_url + featured\r\n",
    "\r\n",
    "browser.quit()"
   ],
   "outputs": [],
   "metadata": {}
  },
  {
   "cell_type": "markdown",
   "source": [
    "## Mars Facts"
   ],
   "metadata": {}
  },
  {
   "cell_type": "code",
   "execution_count": 6,
   "source": [
    "facts_url = \"https://galaxyfacts-mars.com/\"\r\n",
    "\r\n",
    "table = pd.read_html(facts_url)\r\n",
    "\r\n",
    "df = table[0]\r\n",
    "header = df.iloc[0]\r\n",
    "facts_df = df[1:]\r\n",
    "facts_df.columns = header\r\n",
    "\r\n",
    "facts = facts_df.to_html()\r\n"
   ],
   "outputs": [
    {
     "output_type": "execute_result",
     "data": {
      "text/plain": [
       "'<table border=\"1\" class=\"dataframe\">  <thead>    <tr style=\"text-align: right;\">      <th></th>      <th>Mars - Earth Comparison</th>      <th>Mars</th>      <th>Earth</th>    </tr>  </thead>  <tbody>    <tr>      <th>1</th>      <td>Diameter:</td>      <td>6,779 km</td>      <td>12,742 km</td>    </tr>    <tr>      <th>2</th>      <td>Mass:</td>      <td>6.39 × 10^23 kg</td>      <td>5.97 × 10^24 kg</td>    </tr>    <tr>      <th>3</th>      <td>Moons:</td>      <td>2</td>      <td>1</td>    </tr>    <tr>      <th>4</th>      <td>Distance from Sun:</td>      <td>227,943,824 km</td>      <td>149,598,262 km</td>    </tr>    <tr>      <th>5</th>      <td>Length of Year:</td>      <td>687 Earth days</td>      <td>365.24 days</td>    </tr>    <tr>      <th>6</th>      <td>Temperature:</td>      <td>-87 to -5 °C</td>      <td>-88 to 58°C</td>    </tr>  </tbody></table>'"
      ]
     },
     "metadata": {},
     "execution_count": 6
    }
   ],
   "metadata": {}
  },
  {
   "cell_type": "markdown",
   "source": [
    "## Mars Hemispheres"
   ],
   "metadata": {}
  },
  {
   "cell_type": "code",
   "execution_count": null,
   "source": [
    "executable_path = {'executable_path': ChromeDriverManager().install()}\r\n",
    "browser = Browser('chrome', **executable_path, headless=False)\r\n",
    "\r\n",
    "hemi_url = \"https://marshemispheres.com/\"\r\n",
    "browser.visit(hemi_url)\r\n",
    "\r\n",
    "time.sleep(1)\r\n",
    "\r\n",
    "hemi_image_urls = []\r\n",
    "\r\n",
    "for x in range(0, 3):\r\n",
    "\r\n",
    "    html = browser.html\r\n",
    "    soup = bs(html, \"html.parser\")\r\n",
    "\r\n",
    "    hemi_links = browser.links.find_by_partial_text('Hemisphere Enhanced')\r\n",
    "\r\n",
    "    hemi_links[x].click()\r\n",
    "\r\n",
    "    html = browser.html\r\n",
    "    soup = bs(html, \"html.parser\")\r\n",
    "\r\n",
    "    time.sleep(1)\r\n",
    "\r\n",
    "    hemi_image = soup.find('img', class_='wide-image')['src']\r\n",
    "    hemi_title = soup.find('h2', class_='title').text.strip('Enhanced').rstrip()\r\n",
    "\r\n",
    "    img_url = hemi_url + hemi_image\r\n",
    "\r\n",
    "    hemisphere = {\r\n",
    "            'title': hemi_title,\r\n",
    "            'img_url': img_url\r\n",
    "        }\r\n",
    "        \r\n",
    "    hemi_image_urls.append(hemisphere)\r\n",
    "\r\n",
    "    browser.links.find_by_partial_text('Back').click()\r\n",
    "\r\n",
    "    time.sleep(1)\r\n",
    "\r\n",
    "    \r\n",
    "\r\n",
    "browser.quit()"
   ],
   "outputs": [],
   "metadata": {}
  }
 ],
 "metadata": {
  "orig_nbformat": 4,
  "language_info": {
   "name": "python",
   "version": "3.6.10",
   "mimetype": "text/x-python",
   "codemirror_mode": {
    "name": "ipython",
    "version": 3
   },
   "pygments_lexer": "ipython3",
   "nbconvert_exporter": "python",
   "file_extension": ".py"
  },
  "kernelspec": {
   "name": "python3",
   "display_name": "Python 3.6.10 64-bit ('PythonData': conda)"
  },
  "interpreter": {
   "hash": "ed99c328fe6228cde88a5ea9dac3573c8a80070b6f57470153ed5be436ecc5ea"
  }
 },
 "nbformat": 4,
 "nbformat_minor": 2
}